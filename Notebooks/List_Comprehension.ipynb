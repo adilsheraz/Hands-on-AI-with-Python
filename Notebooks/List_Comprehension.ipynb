{
 "cells": [
  {
   "cell_type": "markdown",
   "id": "69573858",
   "metadata": {},
   "source": [
    "# List Comprehension"
   ]
  },
  {
   "cell_type": "markdown",
   "id": "5b3e9f0c",
   "metadata": {},
   "source": [
    "create a list of ten numbers using list comprehension"
   ]
  },
  {
   "cell_type": "code",
   "execution_count": 1,
   "id": "01fe0ad0",
   "metadata": {},
   "outputs": [
    {
     "name": "stdout",
     "output_type": "stream",
     "text": [
      "[0, 1, 2, 3, 4, 5, 6, 7, 8, 9]\n"
     ]
    }
   ],
   "source": [
    "nums = [x for x in range(10)]\n",
    "print(nums)"
   ]
  },
  {
   "cell_type": "markdown",
   "id": "b4a3099a",
   "metadata": {},
   "source": [
    "Now apply `For loop` for the same problem"
   ]
  },
  {
   "cell_type": "code",
   "execution_count": 4,
   "id": "18fc6503",
   "metadata": {},
   "outputs": [],
   "source": [
    "nums1 = []\n",
    "for x in range(10):\n",
    "    nums1.append(x)"
   ]
  },
  {
   "cell_type": "code",
   "execution_count": 5,
   "id": "6e7fe76c",
   "metadata": {},
   "outputs": [
    {
     "data": {
      "text/plain": [
       "[0, 1, 2, 3, 4, 5, 6, 7, 8, 9]"
      ]
     },
     "execution_count": 5,
     "metadata": {},
     "output_type": "execute_result"
    }
   ],
   "source": [
    "nums1"
   ]
  },
  {
   "cell_type": "code",
   "execution_count": 6,
   "id": "3ed20d43",
   "metadata": {},
   "outputs": [
    {
     "data": {
      "text/plain": [
       "True"
      ]
     },
     "execution_count": 6,
     "metadata": {},
     "output_type": "execute_result"
    }
   ],
   "source": [
    "nums == nums1"
   ]
  },
  {
   "cell_type": "markdown",
   "id": "f8af9eeb",
   "metadata": {},
   "source": [
    "using if statements within list comprehesion"
   ]
  },
  {
   "cell_type": "code",
   "execution_count": 7,
   "id": "1299a386",
   "metadata": {},
   "outputs": [
    {
     "data": {
      "text/plain": [
       "[0, 2, 4, 6, 8]"
      ]
     },
     "execution_count": 7,
     "metadata": {},
     "output_type": "execute_result"
    }
   ],
   "source": [
    "nums = [x for x in range(10) if x%2==0]\n",
    "nums"
   ]
  },
  {
   "cell_type": "code",
   "execution_count": 8,
   "id": "acde4ea9",
   "metadata": {},
   "outputs": [
    {
     "data": {
      "text/plain": [
       "[0, 2, 4, 6, 8]"
      ]
     },
     "execution_count": 8,
     "metadata": {},
     "output_type": "execute_result"
    }
   ],
   "source": [
    "nums1 = []\n",
    "for x in range(10):\n",
    "    if x % 2 == 0:\n",
    "        nums1.append(x)\n",
    "nums1"
   ]
  },
  {
   "cell_type": "code",
   "execution_count": 10,
   "id": "3291cc5e",
   "metadata": {},
   "outputs": [
    {
     "data": {
      "text/plain": [
       "['Even', 'Odd', 'Even', 'Odd', 'Even', 'Odd', 'Even', 'Odd', 'Even', 'Odd']"
      ]
     },
     "execution_count": 10,
     "metadata": {},
     "output_type": "execute_result"
    }
   ],
   "source": [
    "nums = ['Even' if x%2 == 0 else 'Odd' for x in range(10)]\n",
    "nums"
   ]
  },
  {
   "cell_type": "code",
   "execution_count": 11,
   "id": "8cd22ea7",
   "metadata": {},
   "outputs": [
    {
     "data": {
      "text/plain": [
       "['Even', 'Odd', 'Even', 'Odd', 'Even', 'Odd', 'Even', 'Odd', 'Even', 'Odd']"
      ]
     },
     "execution_count": 11,
     "metadata": {},
     "output_type": "execute_result"
    }
   ],
   "source": [
    "nums = []\n",
    "for x in range(10):\n",
    "    if x % 2 == 0:\n",
    "        nums.append('Even')\n",
    "    else:\n",
    "        nums.append('Odd')\n",
    "        \n",
    "nums"
   ]
  },
  {
   "cell_type": "code",
   "execution_count": null,
   "id": "fb3e95c4",
   "metadata": {},
   "outputs": [],
   "source": []
  }
 ],
 "metadata": {
  "kernelspec": {
   "display_name": "Python 3 (ipykernel)",
   "language": "python",
   "name": "python3"
  },
  "language_info": {
   "codemirror_mode": {
    "name": "ipython",
    "version": 3
   },
   "file_extension": ".py",
   "mimetype": "text/x-python",
   "name": "python",
   "nbconvert_exporter": "python",
   "pygments_lexer": "ipython3",
   "version": "3.8.8"
  }
 },
 "nbformat": 4,
 "nbformat_minor": 5
}
